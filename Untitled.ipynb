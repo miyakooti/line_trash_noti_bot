{
 "cells": [
  {
   "cell_type": "code",
   "execution_count": 11,
   "id": "fdb107d4",
   "metadata": {},
   "outputs": [],
   "source": [
    "from linebot import LineBotApi\n",
    "from linebot.models import TextSendMessage"
   ]
  },
  {
   "cell_type": "code",
   "execution_count": 12,
   "id": "39586113",
   "metadata": {},
   "outputs": [],
   "source": [
    "CHANNEL_ACCESS_TOKEN = \"VmDOi4vlaVrMKhYbo6lQPLqVvfIIIhPKMn0ofHtf21B6Op4vdAOS37KSFWzdBY+qf/jiiQcbGYVY+w43+uv/b0kWxWHk60rroDZGfHUsRyWBlfasUUp4n4Ck29WILuMr8z7+ChtCRdolsasFUI51ewdB04t89/1O/w1cDnyilFU=\"\n",
    "USER_ID = \"Ua1fd2ec7a22a17357c2f9d32500fc70d\""
   ]
  },
  {
   "cell_type": "code",
   "execution_count": 13,
   "id": "a1d37dde",
   "metadata": {},
   "outputs": [
    {
     "name": "stderr",
     "output_type": "stream",
     "text": [
      "/var/folders/4_/zl9w1kqn3wj4cv0147kh6bc40000gn/T/ipykernel_91256/1467913358.py:1: LineBotSdkDeprecatedIn30: Call to deprecated class LineBotApi. (Use v3 class; linebot.v3.<feature>. See https://github.com/line/line-bot-sdk-python/blob/master/README.rst for more details.) -- Deprecated since version 3.0.0.\n",
      "  app = LineBotApi(CHANNEL_ACCESS_TOKEN)\n"
     ]
    }
   ],
   "source": [
    "app = LineBotApi(CHANNEL_ACCESS_TOKEN)"
   ]
  },
  {
   "cell_type": "code",
   "execution_count": 19,
   "id": "9841a670",
   "metadata": {},
   "outputs": [],
   "source": [
    "def main():\n",
    "    messages = TextSendMessage(text=\"ちんぽこ\")\n",
    "    app.push_message(USER_ID, messages=messages)"
   ]
  },
  {
   "cell_type": "code",
   "execution_count": 20,
   "id": "ed0fddca",
   "metadata": {},
   "outputs": [
    {
     "name": "stderr",
     "output_type": "stream",
     "text": [
      "/var/folders/4_/zl9w1kqn3wj4cv0147kh6bc40000gn/T/ipykernel_91256/3791576862.py:3: LineBotSdkDeprecatedIn30: Call to deprecated method push_message. (Use 'from linebot.v3.messaging import MessagingApi' and 'MessagingApi(...).push_message(...)' instead. See https://github.com/line/line-bot-sdk-python/blob/master/README.rst for more details.) -- Deprecated since version 3.0.0.\n",
      "  app.push_message(USER_ID, messages=messages)\n"
     ]
    }
   ],
   "source": [
    "if __name__ == \"__main__\":\n",
    "    main()"
   ]
  },
  {
   "cell_type": "code",
   "execution_count": null,
   "id": "7caa7ace",
   "metadata": {},
   "outputs": [],
   "source": []
  }
 ],
 "metadata": {
  "kernelspec": {
   "display_name": "Python 3 (ipykernel)",
   "language": "python",
   "name": "python3"
  },
  "language_info": {
   "codemirror_mode": {
    "name": "ipython",
    "version": 3
   },
   "file_extension": ".py",
   "mimetype": "text/x-python",
   "name": "python",
   "nbconvert_exporter": "python",
   "pygments_lexer": "ipython3",
   "version": "3.9.17"
  }
 },
 "nbformat": 4,
 "nbformat_minor": 5
}
