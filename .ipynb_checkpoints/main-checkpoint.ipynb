{
 "cells": [
  {
   "cell_type": "code",
   "execution_count": 26,
   "id": "fdb107d4",
   "metadata": {},
   "outputs": [],
   "source": [
    "from linebot import LineBotApi\n",
    "from linebot.models import TextSendMessage\n",
    "import json"
   ]
  },
  {
   "cell_type": "code",
   "execution_count": 27,
   "id": "39586113",
   "metadata": {},
   "outputs": [],
   "source": [
    "file = open(\"config.json\", \"r\")\n",
    "data = json.load(file)\n",
    "\n",
    "CHANNEL_ACCESS_TOKEN = data[\"CHANNEL_ACCESS_TOKEN\"]\n",
    "USER_ID = data[\"USER_ID\"]"
   ]
  },
  {
   "cell_type": "code",
   "execution_count": 31,
   "id": "ae1624e0",
   "metadata": {},
   "outputs": [
    {
     "name": "stdout",
     "output_type": "stream",
     "text": [
      "6\n"
     ]
    }
   ],
   "source": [
    "import datetime\n",
    "\n",
    "today = datetime.date.today()\n",
    "weekday_num = today.weekday() + 1\n",
    "\n",
    "text = \"\"\n",
    "print(weekday_num)\n",
    "\n",
    "if weekday_num == 7:\n",
    "    # 月曜日\n",
    "    text = \"燃えるゴミ\"\n",
    "elif weekday_num == 1:\n",
    "    # 火曜日\n",
    "    pass\n",
    "elif weekday_num == 2:\n",
    "    # 水曜日\n",
    "    pass\n",
    "elif weekday_num == 3:\n",
    "    # 木曜日\n",
    "    text = \"缶、ビン、ペットボトル\"\n",
    "elif weekday_num == 4:\n",
    "    # 金曜日\n",
    "    text = \"燃えるゴミ\"\n",
    "elif weekday_num == 5:\n",
    "    # 土曜日\n",
    "    text = \"プラごみ\"\n",
    "elif weekday_num == 6:\n",
    "    # 日曜日\n",
    "    pass"
   ]
  },
  {
   "cell_type": "code",
   "execution_count": 29,
   "id": "a1d37dde",
   "metadata": {},
   "outputs": [
    {
     "name": "stderr",
     "output_type": "stream",
     "text": [
      "/var/folders/4_/zl9w1kqn3wj4cv0147kh6bc40000gn/T/ipykernel_10559/1467913358.py:1: LineBotSdkDeprecatedIn30: Call to deprecated class LineBotApi. (Use v3 class; linebot.v3.<feature>. See https://github.com/line/line-bot-sdk-python/blob/master/README.rst for more details.) -- Deprecated since version 3.0.0.\n",
      "  app = LineBotApi(CHANNEL_ACCESS_TOKEN)\n"
     ]
    }
   ],
   "source": [
    "app = LineBotApi(CHANNEL_ACCESS_TOKEN)"
   ]
  },
  {
   "cell_type": "code",
   "execution_count": 33,
   "id": "9841a670",
   "metadata": {},
   "outputs": [],
   "source": [
    "def main():\n",
    "    \n",
    "    if text != \"\":\n",
    "        messages = TextSendMessage(text=text + \"の日…ってコト！？\")\n",
    "        app.push_message(USER_ID, messages=messages)"
   ]
  },
  {
   "cell_type": "code",
   "execution_count": 14,
   "id": "ed0fddca",
   "metadata": {},
   "outputs": [],
   "source": [
    "if __name__ == \"__main__\":\n",
    "    main()"
   ]
  }
 ],
 "metadata": {
  "kernelspec": {
   "display_name": "Python 3 (ipykernel)",
   "language": "python",
   "name": "python3"
  },
  "language_info": {
   "codemirror_mode": {
    "name": "ipython",
    "version": 3
   },
   "file_extension": ".py",
   "mimetype": "text/x-python",
   "name": "python",
   "nbconvert_exporter": "python",
   "pygments_lexer": "ipython3",
   "version": "3.9.13"
  }
 },
 "nbformat": 4,
 "nbformat_minor": 5
}
